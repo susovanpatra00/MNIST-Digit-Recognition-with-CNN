{
 "cells": [
  {
   "cell_type": "code",
   "execution_count": 1,
   "id": "365b82b4-043b-40ef-829b-0ba176f205ab",
   "metadata": {},
   "outputs": [],
   "source": [
    "import numpy as np\n",
    "import pandas as pd\n",
    "import seaborn as sns\n",
    "import matplotlib.pyplot as plt"
   ]
  },
  {
   "cell_type": "markdown",
   "id": "9935aad9-81ca-4adf-85be-36d7a97ed6b7",
   "metadata": {},
   "source": [
    "# Loading the Dataset"
   ]
  },
  {
   "cell_type": "markdown",
   "id": "df579b4f-623a-45a4-a0b0-bd69b267edcd",
   "metadata": {},
   "source": [
    "## Read Train data"
   ]
  },
  {
   "cell_type": "code",
   "execution_count": 2,
   "id": "7994ea37-2ea7-427b-b210-9ad94affbe8b",
   "metadata": {},
   "outputs": [
    {
     "name": "stdout",
     "output_type": "stream",
     "text": [
      "   label  pixel0  pixel1  pixel2  pixel3  pixel4  pixel5  pixel6  pixel7  \\\n",
      "0      1       0       0       0       0       0       0       0       0   \n",
      "1      0       0       0       0       0       0       0       0       0   \n",
      "2      1       0       0       0       0       0       0       0       0   \n",
      "3      4       0       0       0       0       0       0       0       0   \n",
      "4      0       0       0       0       0       0       0       0       0   \n",
      "\n",
      "   pixel8  ...  pixel774  pixel775  pixel776  pixel777  pixel778  pixel779  \\\n",
      "0       0  ...         0         0         0         0         0         0   \n",
      "1       0  ...         0         0         0         0         0         0   \n",
      "2       0  ...         0         0         0         0         0         0   \n",
      "3       0  ...         0         0         0         0         0         0   \n",
      "4       0  ...         0         0         0         0         0         0   \n",
      "\n",
      "   pixel780  pixel781  pixel782  pixel783  \n",
      "0         0         0         0         0  \n",
      "1         0         0         0         0  \n",
      "2         0         0         0         0  \n",
      "3         0         0         0         0  \n",
      "4         0         0         0         0  \n",
      "\n",
      "[5 rows x 785 columns]\n"
     ]
    }
   ],
   "source": [
    "train = pd.read_csv('train.csv')\n",
    "train.shape\n",
    "print(train.head())\n",
    "\n",
    "# Here the Label is the output and all other are the features"
   ]
  },
  {
   "cell_type": "markdown",
   "id": "cc811c02-dd78-4c56-8257-fb03a4ce593f",
   "metadata": {},
   "source": [
    "## Read Test Data"
   ]
  },
  {
   "cell_type": "code",
   "execution_count": 3,
   "id": "ea2839a9-17ed-400a-b66e-d44d39a80905",
   "metadata": {},
   "outputs": [
    {
     "name": "stdout",
     "output_type": "stream",
     "text": [
      "   pixel0  pixel1  pixel2  pixel3  pixel4  pixel5  pixel6  pixel7  pixel8  \\\n",
      "0       0       0       0       0       0       0       0       0       0   \n",
      "1       0       0       0       0       0       0       0       0       0   \n",
      "2       0       0       0       0       0       0       0       0       0   \n",
      "3       0       0       0       0       0       0       0       0       0   \n",
      "4       0       0       0       0       0       0       0       0       0   \n",
      "\n",
      "   pixel9  ...  pixel774  pixel775  pixel776  pixel777  pixel778  pixel779  \\\n",
      "0       0  ...         0         0         0         0         0         0   \n",
      "1       0  ...         0         0         0         0         0         0   \n",
      "2       0  ...         0         0         0         0         0         0   \n",
      "3       0  ...         0         0         0         0         0         0   \n",
      "4       0  ...         0         0         0         0         0         0   \n",
      "\n",
      "   pixel780  pixel781  pixel782  pixel783  \n",
      "0         0         0         0         0  \n",
      "1         0         0         0         0  \n",
      "2         0         0         0         0  \n",
      "3         0         0         0         0  \n",
      "4         0         0         0         0  \n",
      "\n",
      "[5 rows x 784 columns]\n"
     ]
    }
   ],
   "source": [
    "test = pd.read_csv('test.csv')\n",
    "test.shape\n",
    "print(test.head())\n",
    "\n",
    "# Here we are having only features, no label as it is a test set"
   ]
  },
  {
   "cell_type": "markdown",
   "id": "fe9d1f83-9e13-4654-8ad8-b6df31f73ffd",
   "metadata": {},
   "source": [
    "## Dividing the Training set into X_Train and Y_Train"
   ]
  },
  {
   "cell_type": "code",
   "execution_count": 4,
   "id": "a2a519c7-598e-4910-b782-765826bd969a",
   "metadata": {},
   "outputs": [],
   "source": [
    "Y_Train = train['label']\n",
    "X_Train = train.drop(labels=[\"label\"], axis = 1)"
   ]
  },
  {
   "cell_type": "code",
   "execution_count": 5,
   "id": "d16a10c0-82f6-45ce-9eb2-4871f2f92c5f",
   "metadata": {},
   "outputs": [
    {
     "data": {
      "text/html": [
       "<div>\n",
       "<style scoped>\n",
       "    .dataframe tbody tr th:only-of-type {\n",
       "        vertical-align: middle;\n",
       "    }\n",
       "\n",
       "    .dataframe tbody tr th {\n",
       "        vertical-align: top;\n",
       "    }\n",
       "\n",
       "    .dataframe thead th {\n",
       "        text-align: right;\n",
       "    }\n",
       "</style>\n",
       "<table border=\"1\" class=\"dataframe\">\n",
       "  <thead>\n",
       "    <tr style=\"text-align: right;\">\n",
       "      <th></th>\n",
       "      <th>pixel0</th>\n",
       "      <th>pixel1</th>\n",
       "      <th>pixel2</th>\n",
       "      <th>pixel3</th>\n",
       "      <th>pixel4</th>\n",
       "      <th>pixel5</th>\n",
       "      <th>pixel6</th>\n",
       "      <th>pixel7</th>\n",
       "      <th>pixel8</th>\n",
       "      <th>pixel9</th>\n",
       "      <th>...</th>\n",
       "      <th>pixel774</th>\n",
       "      <th>pixel775</th>\n",
       "      <th>pixel776</th>\n",
       "      <th>pixel777</th>\n",
       "      <th>pixel778</th>\n",
       "      <th>pixel779</th>\n",
       "      <th>pixel780</th>\n",
       "      <th>pixel781</th>\n",
       "      <th>pixel782</th>\n",
       "      <th>pixel783</th>\n",
       "    </tr>\n",
       "  </thead>\n",
       "  <tbody>\n",
       "    <tr>\n",
       "      <th>0</th>\n",
       "      <td>0</td>\n",
       "      <td>0</td>\n",
       "      <td>0</td>\n",
       "      <td>0</td>\n",
       "      <td>0</td>\n",
       "      <td>0</td>\n",
       "      <td>0</td>\n",
       "      <td>0</td>\n",
       "      <td>0</td>\n",
       "      <td>0</td>\n",
       "      <td>...</td>\n",
       "      <td>0</td>\n",
       "      <td>0</td>\n",
       "      <td>0</td>\n",
       "      <td>0</td>\n",
       "      <td>0</td>\n",
       "      <td>0</td>\n",
       "      <td>0</td>\n",
       "      <td>0</td>\n",
       "      <td>0</td>\n",
       "      <td>0</td>\n",
       "    </tr>\n",
       "    <tr>\n",
       "      <th>1</th>\n",
       "      <td>0</td>\n",
       "      <td>0</td>\n",
       "      <td>0</td>\n",
       "      <td>0</td>\n",
       "      <td>0</td>\n",
       "      <td>0</td>\n",
       "      <td>0</td>\n",
       "      <td>0</td>\n",
       "      <td>0</td>\n",
       "      <td>0</td>\n",
       "      <td>...</td>\n",
       "      <td>0</td>\n",
       "      <td>0</td>\n",
       "      <td>0</td>\n",
       "      <td>0</td>\n",
       "      <td>0</td>\n",
       "      <td>0</td>\n",
       "      <td>0</td>\n",
       "      <td>0</td>\n",
       "      <td>0</td>\n",
       "      <td>0</td>\n",
       "    </tr>\n",
       "    <tr>\n",
       "      <th>2</th>\n",
       "      <td>0</td>\n",
       "      <td>0</td>\n",
       "      <td>0</td>\n",
       "      <td>0</td>\n",
       "      <td>0</td>\n",
       "      <td>0</td>\n",
       "      <td>0</td>\n",
       "      <td>0</td>\n",
       "      <td>0</td>\n",
       "      <td>0</td>\n",
       "      <td>...</td>\n",
       "      <td>0</td>\n",
       "      <td>0</td>\n",
       "      <td>0</td>\n",
       "      <td>0</td>\n",
       "      <td>0</td>\n",
       "      <td>0</td>\n",
       "      <td>0</td>\n",
       "      <td>0</td>\n",
       "      <td>0</td>\n",
       "      <td>0</td>\n",
       "    </tr>\n",
       "    <tr>\n",
       "      <th>3</th>\n",
       "      <td>0</td>\n",
       "      <td>0</td>\n",
       "      <td>0</td>\n",
       "      <td>0</td>\n",
       "      <td>0</td>\n",
       "      <td>0</td>\n",
       "      <td>0</td>\n",
       "      <td>0</td>\n",
       "      <td>0</td>\n",
       "      <td>0</td>\n",
       "      <td>...</td>\n",
       "      <td>0</td>\n",
       "      <td>0</td>\n",
       "      <td>0</td>\n",
       "      <td>0</td>\n",
       "      <td>0</td>\n",
       "      <td>0</td>\n",
       "      <td>0</td>\n",
       "      <td>0</td>\n",
       "      <td>0</td>\n",
       "      <td>0</td>\n",
       "    </tr>\n",
       "    <tr>\n",
       "      <th>4</th>\n",
       "      <td>0</td>\n",
       "      <td>0</td>\n",
       "      <td>0</td>\n",
       "      <td>0</td>\n",
       "      <td>0</td>\n",
       "      <td>0</td>\n",
       "      <td>0</td>\n",
       "      <td>0</td>\n",
       "      <td>0</td>\n",
       "      <td>0</td>\n",
       "      <td>...</td>\n",
       "      <td>0</td>\n",
       "      <td>0</td>\n",
       "      <td>0</td>\n",
       "      <td>0</td>\n",
       "      <td>0</td>\n",
       "      <td>0</td>\n",
       "      <td>0</td>\n",
       "      <td>0</td>\n",
       "      <td>0</td>\n",
       "      <td>0</td>\n",
       "    </tr>\n",
       "  </tbody>\n",
       "</table>\n",
       "<p>5 rows × 784 columns</p>\n",
       "</div>"
      ],
      "text/plain": [
       "   pixel0  pixel1  pixel2  pixel3  pixel4  pixel5  pixel6  pixel7  pixel8  \\\n",
       "0       0       0       0       0       0       0       0       0       0   \n",
       "1       0       0       0       0       0       0       0       0       0   \n",
       "2       0       0       0       0       0       0       0       0       0   \n",
       "3       0       0       0       0       0       0       0       0       0   \n",
       "4       0       0       0       0       0       0       0       0       0   \n",
       "\n",
       "   pixel9  ...  pixel774  pixel775  pixel776  pixel777  pixel778  pixel779  \\\n",
       "0       0  ...         0         0         0         0         0         0   \n",
       "1       0  ...         0         0         0         0         0         0   \n",
       "2       0  ...         0         0         0         0         0         0   \n",
       "3       0  ...         0         0         0         0         0         0   \n",
       "4       0  ...         0         0         0         0         0         0   \n",
       "\n",
       "   pixel780  pixel781  pixel782  pixel783  \n",
       "0         0         0         0         0  \n",
       "1         0         0         0         0  \n",
       "2         0         0         0         0  \n",
       "3         0         0         0         0  \n",
       "4         0         0         0         0  \n",
       "\n",
       "[5 rows x 784 columns]"
      ]
     },
     "execution_count": 5,
     "metadata": {},
     "output_type": "execute_result"
    }
   ],
   "source": [
    "X_Train.head()"
   ]
  },
  {
   "cell_type": "code",
   "execution_count": 6,
   "id": "19754e4c-d41b-4bb0-b8e9-d9cbb162fafe",
   "metadata": {},
   "outputs": [
    {
     "data": {
      "text/plain": [
       "0    1\n",
       "1    0\n",
       "2    1\n",
       "3    4\n",
       "4    0\n",
       "Name: label, dtype: int64"
      ]
     },
     "execution_count": 6,
     "metadata": {},
     "output_type": "execute_result"
    }
   ],
   "source": [
    "Y_Train.head()"
   ]
  },
  {
   "cell_type": "code",
   "execution_count": 7,
   "id": "17084c7f-304e-4021-9069-6cc2c61ac4c0",
   "metadata": {},
   "outputs": [
    {
     "data": {
      "text/plain": [
       "1    4684\n",
       "7    4401\n",
       "3    4351\n",
       "9    4188\n",
       "2    4177\n",
       "6    4137\n",
       "0    4132\n",
       "4    4072\n",
       "8    4063\n",
       "5    3795\n",
       "Name: label, dtype: int64"
      ]
     },
     "execution_count": 7,
     "metadata": {},
     "output_type": "execute_result"
    }
   ],
   "source": [
    "Y_Train.value_counts()"
   ]
  },
  {
   "cell_type": "markdown",
   "id": "e82da501-5b99-4ff1-ae1e-f827011bcd14",
   "metadata": {},
   "source": [
    "## Plot Some Examples"
   ]
  },
  {
   "cell_type": "code",
   "execution_count": 8,
   "id": "be966b6b-68d6-4361-8603-cc84caf137aa",
   "metadata": {},
   "outputs": [
    {
     "data": {
      "image/png": "[encoded data removed]",
      "text/plain": [
       "<Figure size 640x480 with 1 Axes>"
      ]
     },
     "metadata": {},
     "output_type": "display_data"
    }
   ],
   "source": [
    "#img = X_train.iloc[0].as_matrix()\n",
    "img = X_Train.iloc[0].to_numpy()\n",
    "img = img.reshape((28,28))\n",
    "plt.imshow(img,cmap='gray')\n",
    "plt.title(train.iloc[0,0])\n",
    "plt.axis(\"off\")\n",
    "plt.show()\n",
    "\n",
    "#“landmarks = landmarks_frame.iloc[n, 1:].as_matrix()”\n",
    "#The above code runs with errors.\n",
    "\n",
    "#The version of pandas is 1.0.1.\n",
    "#Replace ‘as_matrix()’ with ‘to_numpy()’ and the problem is solved."
   ]
  },
  {
   "cell_type": "code",
   "execution_count": 9,
   "id": "2a97cc42-d30a-4b4c-b98a-0234d29dfdd4",
   "metadata": {},
   "outputs": [
    {
     "data": {
      "image/png": "[encoded data removed]",
      "text/plain": [
       "<Figure size 640x480 with 1 Axes>"
      ]
     },
     "metadata": {},
     "output_type": "display_data"
    }
   ],
   "source": [
    "#img = X_train.iloc[0].as_matrix()\n",
    "img = X_Train.iloc[1].to_numpy()\n",
    "img = img.reshape((28,28))\n",
    "plt.imshow(img,cmap='gray')\n",
    "plt.title(train.iloc[1,0])\n",
    "plt.axis(\"off\")\n",
    "plt.show()\n",
    "\n",
    "#“landmarks = landmarks_frame.iloc[n, 1:].as_matrix()”\n",
    "#The above code runs with errors.\n",
    "\n",
    "#The version of pandas is 1.0.1.\n",
    "#Replace ‘as_matrix()’ with ‘to_numpy()’ and the problem is solved."
   ]
  },
  {
   "cell_type": "code",
   "execution_count": 10,
   "id": "94587509-3198-4593-9e36-097af85abc05",
   "metadata": {},
   "outputs": [
    {
     "data": {
      "image/png": "[encoded data removed]",
      "text/plain": [
       "<Figure size 640x480 with 1 Axes>"
      ]
     },
     "metadata": {},
     "output_type": "display_data"
    }
   ],
   "source": [
    "#img = X_train.iloc[0].as_matrix()\n",
    "img = X_Train.iloc[226].to_numpy()\n",
    "img = img.reshape((28,28))\n",
    "plt.imshow(img,cmap='gray')\n",
    "plt.title(train.iloc[226,0])\n",
    "plt.axis(\"off\")\n",
    "plt.show()\n",
    "\n",
    "#“landmarks = landmarks_frame.iloc[n, 1:].as_matrix()”\n",
    "#The above code runs with errors.\n",
    "\n",
    "#The version of pandas is 1.0.1.\n",
    "#Replace ‘as_matrix()’ with ‘to_numpy()’ and the problem is solved."
   ]
  },
  {
   "cell_type": "markdown",
   "id": "8fadf741-9f51-4e4e-a32b-cc0a8f3d0792",
   "metadata": {},
   "source": [
    "## Normalization, Reshape and Label Encoding\n",
    "\n",
    "### Normalization\n",
    "#### * We perform a grayscale normalization to reduce the effect of illumination's differences.\n",
    "#### * If we perform normalization, CNN works faster.\n",
    "### Reshape\n",
    "#### * Train and test images (28 x 28)\n",
    "#### * We reshape all data to 28x28x1 3D matrices.\n",
    "#### * Keras needs an extra dimension in the end which correspond to channels. Our images are gray scaled so it use only one channel.\n",
    "### Label Encoding\n",
    "#### * Encode labels to one hot vectors\n",
    "#### * 2 => [0,0,1,0,0,0,0,0,0,0]\n",
    "#### * 4 => [0,0,0,0,1,0,0,0,0,0]"
   ]
  },
  {
   "cell_type": "markdown",
   "id": "c1e78948-bf6a-4094-9eb9-551276169735",
   "metadata": {},
   "source": [
    "## Normalize the Data"
   ]
  },
  {
   "cell_type": "code",
   "execution_count": 11,
   "id": "ef72139c-0ce7-4753-9cdf-cd60d8c60dc4",
   "metadata": {},
   "outputs": [
    {
     "name": "stdout",
     "output_type": "stream",
     "text": [
      "x_train shape:  (42000, 784)\n",
      "test shape:  (28000, 784)\n"
     ]
    }
   ],
   "source": [
    "X_Train = X_Train / 255.0\n",
    "test = test / 255.0\n",
    "print(\"x_train shape: \",X_Train.shape)\n",
    "print(\"test shape: \",test.shape)"
   ]
  },
  {
   "cell_type": "markdown",
   "id": "adf5475e-5a31-46dd-8f25-d7f7ac1f74cb",
   "metadata": {},
   "source": [
    "## Reshape"
   ]
  },
  {
   "cell_type": "code",
   "execution_count": 12,
   "id": "5c8c8bdc-ca68-469d-a3eb-26f521a50f01",
   "metadata": {},
   "outputs": [
    {
     "name": "stdout",
     "output_type": "stream",
     "text": [
      "x_train shape:  (42000, 28, 28, 1)\n",
      "test shape:  (28000, 28, 28, 1)\n"
     ]
    }
   ],
   "source": [
    "X_Train = X_Train.values.reshape(-1,28,28,1)\n",
    "test = test.values.reshape(-1,28,28,1)\n",
    "print(\"x_train shape: \",X_Train.shape)\n",
    "print(\"test shape: \",test.shape)"
   ]
  },
  {
   "cell_type": "markdown",
   "id": "15f15521-1126-44d6-a182-f84b4cd6aa68",
   "metadata": {},
   "source": [
    "## Train Test Split"
   ]
  },
  {
   "cell_type": "code",
   "execution_count": 13,
   "id": "480e85e8-dacf-479b-a141-98bf419f0b64",
   "metadata": {},
   "outputs": [],
   "source": [
    "import tensorflow as tf\n",
    "from tensorflow import keras\n",
    "from tensorflow.keras.utils import to_categorical # convert to one-hot-encoding\n",
    "Y_Train = to_categorical(Y_Train, num_classes = 10)"
   ]
  },
  {
   "cell_type": "code",
   "execution_count": 14,
   "id": "ecf08af3-5406-4556-abe1-77f2efd06e4b",
   "metadata": {},
   "outputs": [
    {
     "name": "stdout",
     "output_type": "stream",
     "text": [
      "x_train shape (37800, 28, 28, 1)\n",
      "x_test shape (4200, 28, 28, 1)\n",
      "y_train shape (37800, 10)\n",
      "y_test shape (4200, 10)\n"
     ]
    }
   ],
   "source": [
    "from sklearn.model_selection import train_test_split\n",
    "X_Train, X_val, Y_Train, Y_val = train_test_split(X_Train, Y_Train, test_size = 0.1, random_state=2)\n",
    "print(\"x_train shape\",X_Train.shape)\n",
    "print(\"x_test shape\",X_val.shape)\n",
    "print(\"y_train shape\",Y_Train.shape)\n",
    "print(\"y_test shape\",Y_val.shape)"
   ]
  },
  {
   "cell_type": "code",
   "execution_count": 15,
   "id": "543981b1-7450-473f-b55c-2fdd22da3a47",
   "metadata": {},
   "outputs": [
    {
     "data": {
      "image/png": "[encoded data removed]",
      "text/plain": [
       "<Figure size 640x480 with 1 Axes>"
      ]
     },
     "metadata": {},
     "output_type": "display_data"
    }
   ],
   "source": [
    "plt.imshow(X_Train[7][:,:,0],cmap='gray')\n",
    "plt.show()"
   ]
  },
  {
   "cell_type": "markdown",
   "id": "23744a69-511b-4943-9ff1-f79dfdcfbb84",
   "metadata": {},
   "source": [
    "# CNN"
   ]
  },
  {
   "cell_type": "code",
   "execution_count": 16,
   "id": "1c8a1336-4cc4-4d5e-9e57-a80440d38124",
   "metadata": {},
   "outputs": [],
   "source": [
    "from tensorflow.keras import datasets, layers, models\n",
    "model = models.Sequential()\n",
    "\n",
    "model.add(layers.Conv2D(8, (5, 5), activation='relu', input_shape=(28, 28, 1)))  # 8 filters of (5 x 5)\n",
    "model.add(layers.MaxPooling2D((2,2)))\n",
    "model.add(layers.Dropout(0.25))\n",
    "\n",
    "\n",
    "model.add(layers.Conv2D(16, (3, 3), activation='relu'))  # 16 filters of (3 x 3)\n",
    "model.add(layers.MaxPooling2D((2,2), strides = (2,2)))\n",
    "model.add(layers.Dropout(0.25))\n",
    "# strides=(2, 2) means that the convolutional filter moves 2 units at a time in both the horizontal (width) and vertical (height) directions.\n",
    "\n"
   ]
  },
  {
   "cell_type": "code",
   "execution_count": 17,
   "id": "42603841-5b74-4888-9107-0af03093d98e",
   "metadata": {},
   "outputs": [
    {
     "name": "stdout",
     "output_type": "stream",
     "text": [
      "Model: \"sequential\"\n",
      "_________________________________________________________________\n",
      " Layer (type)                Output Shape              Param #   \n",
      "=================================================================\n",
      " conv2d (Conv2D)             (None, 24, 24, 8)         208       \n",
      "                                                                 \n",
      " max_pooling2d (MaxPooling2  (None, 12, 12, 8)         0         \n",
      " D)                                                              \n",
      "                                                                 \n",
      " dropout (Dropout)           (None, 12, 12, 8)         0         \n",
      "                                                                 \n",
      " conv2d_1 (Conv2D)           (None, 10, 10, 16)        1168      \n",
      "                                                                 \n",
      " max_pooling2d_1 (MaxPoolin  (None, 5, 5, 16)          0         \n",
      " g2D)                                                            \n",
      "                                                                 \n",
      " dropout_1 (Dropout)         (None, 5, 5, 16)          0         \n",
      "                                                                 \n",
      "=================================================================\n",
      "Total params: 1376 (5.38 KB)\n",
      "Trainable params: 1376 (5.38 KB)\n",
      "Non-trainable params: 0 (0.00 Byte)\n",
      "_________________________________________________________________\n"
     ]
    }
   ],
   "source": [
    "model.summary()"
   ]
  },
  {
   "cell_type": "code",
   "execution_count": 18,
   "id": "4a510151-c584-4109-a34e-b7a107920e21",
   "metadata": {},
   "outputs": [],
   "source": [
    "model.add(layers.Flatten())\n",
    "model.add(layers.Dense(256, activation='relu'))\n",
    "model.add(layers.Dropout(0.5))\n",
    "model.add(layers.Dense(10))"
   ]
  },
  {
   "cell_type": "code",
   "execution_count": 19,
   "id": "b3306b30-0d7a-4411-bd96-e0d0f8f27319",
   "metadata": {},
   "outputs": [
    {
     "name": "stdout",
     "output_type": "stream",
     "text": [
      "Epoch 1/10\n",
      "1182/1182 [==============================] - 7s 6ms/step - loss: 0.3743 - accuracy: 0.8798 - val_loss: 0.0955 - val_accuracy: 0.9698\n",
      "Epoch 2/10\n",
      "1182/1182 [==============================] - 7s 6ms/step - loss: 0.1441 - accuracy: 0.9548 - val_loss: 0.0683 - val_accuracy: 0.9762\n",
      "Epoch 3/10\n",
      "1182/1182 [==============================] - 6s 5ms/step - loss: 0.1150 - accuracy: 0.9648 - val_loss: 0.0570 - val_accuracy: 0.9817\n",
      "Epoch 4/10\n",
      "1182/1182 [==============================] - 7s 6ms/step - loss: 0.1009 - accuracy: 0.9687 - val_loss: 0.0482 - val_accuracy: 0.9845\n",
      "Epoch 5/10\n",
      "1182/1182 [==============================] - 7s 6ms/step - loss: 0.0899 - accuracy: 0.9717 - val_loss: 0.0451 - val_accuracy: 0.9855\n",
      "Epoch 6/10\n",
      "1182/1182 [==============================] - 6s 5ms/step - loss: 0.0819 - accuracy: 0.9736 - val_loss: 0.0447 - val_accuracy: 0.9864\n",
      "Epoch 7/10\n",
      "1182/1182 [==============================] - 7s 6ms/step - loss: 0.0756 - accuracy: 0.9754 - val_loss: 0.0428 - val_accuracy: 0.9869\n",
      "Epoch 8/10\n",
      "1182/1182 [==============================] - 6s 5ms/step - loss: 0.0715 - accuracy: 0.9773 - val_loss: 0.0452 - val_accuracy: 0.9876\n",
      "Epoch 9/10\n",
      "1182/1182 [==============================] - 6s 5ms/step - loss: 0.0700 - accuracy: 0.9776 - val_loss: 0.0373 - val_accuracy: 0.9895\n",
      "Epoch 10/10\n",
      "1182/1182 [==============================] - 7s 6ms/step - loss: 0.0647 - accuracy: 0.9800 - val_loss: 0.0392 - val_accuracy: 0.9893\n"
     ]
    }
   ],
   "source": [
    "model.compile(optimizer='adam',\n",
    "              loss=tf.keras.losses.CategoricalCrossentropy(from_logits=True),\n",
    "              metrics=['accuracy'])\n",
    "\n",
    "history = model.fit(X_Train, Y_Train, epochs=10, validation_data=(X_val, Y_val))\n",
    "\n",
    "\n",
    "# If you are using one-hot encoding for your labels, you should use categorical_crossentropy as the loss function instead of \n",
    "# SparseCategoricalCrossentropy. The SparseCategoricalCrossentropy loss is suitable for integer-encoded class labels, whereas \n",
    "# CategoricalCrossentropy is used when the labels are one-hot encoded.\n",
    "\n",
    "# Additionally, ensure that your labels (Y_Train and Y_val) are one-hot encoded. You can use the to_categorical function from Keras \n",
    "# to achieve this:\n",
    "\n",
    "# from keras.utils import to_categorical\n",
    "# Assuming Y_Train and Y_val are integer-encoded labels\n",
    "# Y_Train_one_hot = to_categorical(Y_Train, num_classes)\n",
    "# Y_val_one_hot = to_categorical(Y_val, num_classes)"
   ]
  },
  {
   "cell_type": "code",
   "execution_count": 20,
   "id": "35dbeb98-97a5-4020-a792-f5c2e31da472",
   "metadata": {},
   "outputs": [
    {
     "name": "stdout",
     "output_type": "stream",
     "text": [
      "132/132 - 0s - loss: 0.0392 - accuracy: 0.9893 - 229ms/epoch - 2ms/step\n"
     ]
    },
    {
     "data": {
      "image/png": "[encoded data removed]",
      "text/plain": [
       "<Figure size 640x480 with 1 Axes>"
      ]
     },
     "metadata": {},
     "output_type": "display_data"
    }
   ],
   "source": [
    "plt.plot(history.history['accuracy'], label='accuracy')\n",
    "plt.plot(history.history['val_accuracy'], label = 'val_accuracy')\n",
    "plt.xlabel('Epoch')\n",
    "plt.ylabel('Accuracy')\n",
    "plt.ylim([0.5, 1])\n",
    "plt.legend(loc='lower right')\n",
    "\n",
    "test_loss, test_acc = model.evaluate(X_val,  Y_val, verbose=2)"
   ]
  },
  {
   "cell_type": "code",
   "execution_count": 21,
   "id": "66f7a32e-9b83-47d5-86ab-c9aeb98ff41e",
   "metadata": {},
   "outputs": [
    {
     "name": "stdout",
     "output_type": "stream",
     "text": [
      "0.9892857074737549\n"
     ]
    }
   ],
   "source": [
    "print(test_acc)"
   ]
  },
  {
   "cell_type": "code",
   "execution_count": 22,
   "id": "ce70056b-bc6f-4e29-b965-7df3618891ca",
   "metadata": {},
   "outputs": [
    {
     "name": "stdout",
     "output_type": "stream",
     "text": [
      "132/132 [==============================] - 0s 2ms/step\n"
     ]
    },
    {
     "data": {
      "image/png": "[encoded data removed]",
      "text/plain": [
       "<Figure size 800x800 with 2 Axes>"
      ]
     },
     "metadata": {},
     "output_type": "display_data"
    }
   ],
   "source": [
    "from sklearn.metrics import confusion_matrix\n",
    "# Predict the values from the validation dataset\n",
    "Y_pred = model.predict(X_val)\n",
    "# Convert predictions classes to one hot vectors \n",
    "Y_pred_classes = np.argmax(Y_pred,axis = 1) \n",
    "# Convert validation observations to one hot vectors\n",
    "Y_true = np.argmax(Y_val,axis = 1) \n",
    "# compute the confusion matrix\n",
    "confusion_mtx = confusion_matrix(Y_true, Y_pred_classes) \n",
    "# plot the confusion matrix\n",
    "f,ax = plt.subplots(figsize=(8, 8))\n",
    "sns.heatmap(confusion_mtx, annot=True, linewidths=0.01,cmap=\"Greens\",linecolor=\"gray\", fmt= '.1f',ax=ax)\n",
    "plt.xlabel(\"Predicted Label\")\n",
    "plt.ylabel(\"True Label\")\n",
    "plt.title(\"Confusion Matrix\")\n",
    "plt.show()"
   ]
  },
  {
   "cell_type": "code",
   "execution_count": 23,
   "id": "af41e021-589f-43f0-9cd4-c7fb8429639f",
   "metadata": {},
   "outputs": [],
   "source": [
    "# https://github.com/suneelbvs/Deep-Learning-Projects/blob/main/CNN%20Projects/Computer%20Vision%20Tasks/MNIST/Simple%20CNN%20Model%20with%20Nice%20Tutorial.ipynb"
   ]
  },
  {
   "cell_type": "code",
   "execution_count": null,
   "id": "31ab1b6a-651e-4a88-b700-915e9c189b0e",
   "metadata": {},
   "outputs": [],
   "source": []
  }
 ],
 "metadata": {
  "kernelspec": {
   "display_name": "Python 3 (ipykernel)",
   "language": "python",
   "name": "python3"
  },
  "language_info": {
   "codemirror_mode": {
    "name": "ipython",
    "version": 3
   },
   "file_extension": ".py",
   "mimetype": "text/x-python",
   "name": "python",
   "nbconvert_exporter": "python",
   "pygments_lexer": "ipython3",
   "version": "3.11.4"
  }
 },
 "nbformat": 4,
 "nbformat_minor": 5
}
